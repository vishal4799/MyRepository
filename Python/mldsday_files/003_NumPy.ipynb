{
 "cells": [
  {
   "cell_type": "code",
   "execution_count": null,
   "metadata": {
    "slideshow": {
     "slide_type": "slide"
    }
   },
   "outputs": [],
   "source": [
    "NumPy"
   ]
  },
  {
   "cell_type": "markdown",
   "metadata": {},
   "source": [
    "NumPy is the fundamental package for scientific computing with Python\n",
    "http://www.numpy.org/\n"
   ]
  },
  {
   "cell_type": "code",
   "execution_count": 2,
   "metadata": {},
   "outputs": [],
   "source": [
    "import numpy as np"
   ]
  },
  {
   "cell_type": "code",
   "execution_count": null,
   "metadata": {},
   "outputs": [],
   "source": [
    "#Array Creation\n",
    "#1 Create Arrays from list"
   ]
  },
  {
   "cell_type": "code",
   "execution_count": 22,
   "metadata": {},
   "outputs": [],
   "source": [
    "marks_list = [89.00, 67.5, 95.3]"
   ]
  },
  {
   "cell_type": "code",
   "execution_count": 23,
   "metadata": {},
   "outputs": [
    {
     "name": "stdout",
     "output_type": "stream",
     "text": [
      "[89.  67.5 95.3] <class 'numpy.ndarray'>\n"
     ]
    }
   ],
   "source": [
    "#1-D array\n",
    "n1 = np.array(marks_list)\n",
    "print(n1, type(n1))"
   ]
  },
  {
   "cell_type": "code",
   "execution_count": 8,
   "metadata": {},
   "outputs": [
    {
     "name": "stdout",
     "output_type": "stream",
     "text": [
      "[[ 1  4  9]\n",
      " [ 4 -5  0]\n",
      " [33 -8  1]] <class 'numpy.ndarray'>\n"
     ]
    }
   ],
   "source": [
    "#2-D array\n",
    "n2 = np.array( [[1,4,9], [4,-5, 0], [33, -8, 1]]\n",
    "       \n",
    "                )\n",
    "print(n2, type(n2))"
   ]
  },
  {
   "cell_type": "code",
   "execution_count": null,
   "metadata": {},
   "outputs": [],
   "source": [
    "#Basic Concepts\n",
    "#np.ndarray\n",
    "#np.dtype"
   ]
  },
  {
   "cell_type": "code",
   "execution_count": null,
   "metadata": {},
   "outputs": [],
   "source": [
    "#inspecting properties of arrays\n",
    "# a.size - Returns  number of elements in arr\n",
    "# a.shape - Returns dimensions of array a (rows,columns)\n",
    "# a.dtype - Returns type of elements in array a \n",
    "# a.astype(dtype) - Convert array a elements to type dtype\n",
    "# a.tolist() - Convert array a  to a Python list\n",
    "\n"
   ]
  },
  {
   "cell_type": "code",
   "execution_count": 10,
   "metadata": {},
   "outputs": [
    {
     "name": "stdout",
     "output_type": "stream",
     "text": [
      "[[ 1  4  9]\n",
      " [ 4 -5  0]\n",
      " [33 -8  1]]\n",
      "9\n",
      "(3, 3)\n",
      "int32\n",
      "[['1' '4' '9']\n",
      " ['4' '-5' '0']\n",
      " ['33' '-8' '1']]\n"
     ]
    }
   ],
   "source": [
    "print(n2)\n",
    "print(n2.size)\n",
    "print(n2.shape)\n",
    "print(n2.dtype)\n",
    "print(n2.astype(str))"
   ]
  },
  {
   "cell_type": "code",
   "execution_count": null,
   "metadata": {},
   "outputs": [],
   "source": [
    "#special arrays\n",
    "#zeros, ones, eyes"
   ]
  },
  {
   "cell_type": "code",
   "execution_count": 12,
   "metadata": {},
   "outputs": [
    {
     "name": "stdout",
     "output_type": "stream",
     "text": [
      "[0. 0. 0. 0.] <class 'numpy.ndarray'>\n"
     ]
    }
   ],
   "source": [
    "\n",
    "z1 = np.zeros((4))\n",
    "print(z1,type(z1))"
   ]
  },
  {
   "cell_type": "code",
   "execution_count": 13,
   "metadata": {},
   "outputs": [
    {
     "name": "stdout",
     "output_type": "stream",
     "text": [
      "[1. 1. 1. 1.] <class 'numpy.ndarray'>\n"
     ]
    }
   ],
   "source": [
    "z2 = np.ones(4)\n",
    "print(z2,type(z2))"
   ]
  },
  {
   "cell_type": "code",
   "execution_count": 14,
   "metadata": {},
   "outputs": [
    {
     "name": "stdout",
     "output_type": "stream",
     "text": [
      "[[1. 0. 0. 0. 0.]\n",
      " [0. 1. 0. 0. 0.]\n",
      " [0. 0. 1. 0. 0.]\n",
      " [0. 0. 0. 1. 0.]\n",
      " [0. 0. 0. 0. 1.]] <class 'numpy.ndarray'>\n"
     ]
    }
   ],
   "source": [
    "z3 = np.eye(5)  #   I\n",
    "print(z3, type(z3))"
   ]
  },
  {
   "cell_type": "code",
   "execution_count": 16,
   "metadata": {},
   "outputs": [
    {
     "name": "stdout",
     "output_type": "stream",
     "text": [
      "[  0.  25.  50.  75. 100.] <class 'numpy.ndarray'>\n"
     ]
    }
   ],
   "source": [
    "#Evenly spaced 5 values between 0 and 100\n",
    "p1 = np.linspace(0,100,5)\n",
    "print(p1, type(p1))"
   ]
  },
  {
   "cell_type": "code",
   "execution_count": 15,
   "metadata": {},
   "outputs": [
    {
     "name": "stdout",
     "output_type": "stream",
     "text": [
      "[ 0  3  6  9 12 15 18 21 24 27 30] <class 'numpy.ndarray'>\n"
     ]
    }
   ],
   "source": [
    "#array in the range between 0 to 30 in step of 4\n",
    "p2 = np.arange(0,31,3)   #range(10) python\n",
    "print(p2, type(p2))"
   ]
  },
  {
   "cell_type": "code",
   "execution_count": 16,
   "metadata": {},
   "outputs": [
    {
     "name": "stdout",
     "output_type": "stream",
     "text": [
      "[[0. 0. 0. 0.]\n",
      " [0. 0. 0. 0.]\n",
      " [0. 0. 0. 0.]] <class 'numpy.ndarray'>\n"
     ]
    }
   ],
   "source": [
    "#empty array of any given shape\n",
    "p3 = np.empty((3,4))\n",
    "print(p3,type(p3))"
   ]
  },
  {
   "cell_type": "code",
   "execution_count": 21,
   "metadata": {},
   "outputs": [
    {
     "name": "stdout",
     "output_type": "stream",
     "text": [
      "[[9 9 9 9]\n",
      " [9 9 9 9]\n",
      " [9 9 9 9]] <class 'numpy.ndarray'>\n"
     ]
    }
   ],
   "source": [
    "#fill an array of given shape and fill value\n",
    "p4 = np.full((3,4),9)\n",
    "print(p4, type(p4))"
   ]
  },
  {
   "cell_type": "code",
   "execution_count": 17,
   "metadata": {},
   "outputs": [
    {
     "name": "stdout",
     "output_type": "stream",
     "text": [
      "[[0.23551601 0.17622231 0.06647993]\n",
      " [0.76127865 0.95175749 0.00474444]\n",
      " [0.99223953 0.5548226  0.38053943]\n",
      " [0.40288775 0.91644086 0.9413973 ]\n",
      " [0.54015904 0.46508984 0.4725572 ]] <class 'numpy.ndarray'>\n"
     ]
    }
   ],
   "source": [
    "#np.random.rand(5,3) - 5x3 array of random floats between 0-1\n",
    "p5 = np.random.rand(5,3)\n",
    "print(p5,type(p5))"
   ]
  },
  {
   "cell_type": "code",
   "execution_count": 22,
   "metadata": {},
   "outputs": [
    {
     "name": "stdout",
     "output_type": "stream",
     "text": [
      "[[95.82391353 80.26474584 75.39230807]\n",
      " [89.63423997 66.3224118  28.75733502]\n",
      " [54.92254898 75.28280543 45.40221879]\n",
      " [ 5.16551306 61.17078543 87.44294441]\n",
      " [87.60975233 99.73537763 37.45779825]\n",
      " [63.51283417  6.65910363 25.33370846]] <class 'numpy.ndarray'>\n"
     ]
    }
   ],
   "source": [
    "#np.random.rand(5,6)*100 - 5x6 array of random floats between 0-100\n",
    "p6 = np.random.rand(6,3)*100 \n",
    "print(p6,type(p6))"
   ]
  },
  {
   "cell_type": "code",
   "execution_count": 23,
   "metadata": {},
   "outputs": [
    {
     "name": "stdout",
     "output_type": "stream",
     "text": [
      "[[ 8 21 19]\n",
      " [17  6  2]] <class 'numpy.ndarray'>\n"
     ]
    }
   ],
   "source": [
    "#np.random.randint(25,size=(2,3)) - 2x3 array with random ints between 0-24\n",
    "p7 = np.random.randint(25,size=(2,3))\n",
    "print(p7,type(p7))"
   ]
  },
  {
   "cell_type": "code",
   "execution_count": 24,
   "metadata": {},
   "outputs": [],
   "source": [
    "marks = [7, 8, 9, 9, 2, 1, 1, 5, 4, 5]"
   ]
  },
  {
   "cell_type": "code",
   "execution_count": 25,
   "metadata": {},
   "outputs": [],
   "source": [
    "# 1D numpy array\n",
    "n1 = np.array(marks, dtype=np.int16)"
   ]
  },
  {
   "cell_type": "code",
   "execution_count": 26,
   "metadata": {},
   "outputs": [
    {
     "name": "stdout",
     "output_type": "stream",
     "text": [
      "[7 8 9 9 2 1 1 5 4 5]\n",
      "<class 'numpy.ndarray'>\n",
      "1\n",
      "(10,)\n",
      "int16\n"
     ]
    }
   ],
   "source": [
    "print(n1)\n",
    "print(type(n1))\n",
    "print(n1.ndim)\n",
    "print(n1.shape)\n",
    "print(n1.dtype)   # data type"
   ]
  },
  {
   "cell_type": "code",
   "execution_count": 27,
   "metadata": {},
   "outputs": [
    {
     "name": "stdout",
     "output_type": "stream",
     "text": [
      "[7 8 9 9 2 1 1 5 4 5]\n",
      "[ 8  9 10 10  3  2  2  6  5  6]\n",
      "<class 'numpy.ndarray'>\n"
     ]
    }
   ],
   "source": [
    "# vectorized computation\n",
    "corrected_marks = n1 + 1\n",
    "print(n1)\n",
    "print(corrected_marks)\n",
    "print(type(corrected_marks))\n",
    "\n",
    "# sq = n1 ** 2\n",
    "# print(sq)\n",
    "# print(sq / 2)\n",
    "# print(type(sq))"
   ]
  },
  {
   "cell_type": "code",
   "execution_count": 28,
   "metadata": {},
   "outputs": [
    {
     "name": "stdout",
     "output_type": "stream",
     "text": [
      "[7 8 9 9 2 1 1 5 4 5]\n",
      "7\n",
      "5\n",
      "4\n",
      "[7 9]\n",
      "<class 'numpy.ndarray'>\n",
      "[7 5 4]\n"
     ]
    }
   ],
   "source": [
    "# indexing\n",
    "print(n1)\n",
    "print(n1[0])\n",
    "print(n1[-1])\n",
    "print(n1[-2])\n",
    "print(n1[[0, 2]])\n",
    "na = n1[[0, -1, -2]]\n",
    "print(type(na))\n",
    "print(na)"
   ]
  },
  {
   "cell_type": "code",
   "execution_count": 29,
   "metadata": {},
   "outputs": [
    {
     "name": "stdout",
     "output_type": "stream",
     "text": [
      "[7 8 9 9 2 1 1 5 4 5]\n",
      "[7 8 9]\n",
      "<class 'numpy.ndarray'>\n",
      "[5 4 5]\n"
     ]
    }
   ],
   "source": [
    "# slicing\n",
    "print(n1)\n",
    "first_three = n1[:3]\n",
    "print(first_three)\n",
    "print(type(first_three))\n",
    "print(n1[-3:])"
   ]
  },
  {
   "cell_type": "code",
   "execution_count": 32,
   "metadata": {},
   "outputs": [
    {
     "name": "stdout",
     "output_type": "stream",
     "text": [
      "[7 8 9 9 2 1 1 5 4 5]\n",
      "[ True  True  True  True False False False False False False]\n",
      "[7 8 9 9]\n"
     ]
    }
   ],
   "source": [
    "# filtering\n",
    "print(n1)\n",
    "gr_than_5= n1 > 5\n",
    "print(gr_than_5)\n",
    "\n",
    "gr_than_5 = n1[n1 > 5]\n",
    "print(gr_than_5)"
   ]
  },
  {
   "cell_type": "code",
   "execution_count": 36,
   "metadata": {},
   "outputs": [
    {
     "name": "stdout",
     "output_type": "stream",
     "text": [
      "[7 8 9 9 2 1 1 5 4 5]\n",
      "[ True  True  True  True  True False False False  True False]\n",
      "[7 8 9 9 2 4]\n"
     ]
    }
   ],
   "source": [
    "# Find even marks  or odd marks greater than 5\n",
    "\n",
    "print(n1)\n",
    "nnn = (n1 % 2 == 0) | (n1 > 5)\n",
    "print(nnn)\n",
    "nn = n1[(n1 % 2 == 0) | (n1 > 5)]\n",
    "print(nn)"
   ]
  },
  {
   "cell_type": "code",
   "execution_count": 35,
   "metadata": {},
   "outputs": [
    {
     "name": "stdout",
     "output_type": "stream",
     "text": [
      "[7 8 9 9 2 1 1 5 4 5]\n",
      "51\n",
      "5.1\n",
      "9\n",
      "1\n",
      "5.0\n",
      "2.947880594596735\n",
      "8.690000000000001\n"
     ]
    }
   ],
   "source": [
    "# aggregations\n",
    "print(n1)\n",
    "print(n1.sum())\n",
    "print(n1.mean())\n",
    "print(n1.max())\n",
    "print(n1.min())\n",
    "print(np.median(n1))\n",
    "print(np.std(n1))\n",
    "print(np.var(n1))"
   ]
  },
  {
   "cell_type": "code",
   "execution_count": null,
   "metadata": {},
   "outputs": [],
   "source": [
    "#2-D arrays"
   ]
  },
  {
   "cell_type": "code",
   "execution_count": 37,
   "metadata": {},
   "outputs": [],
   "source": [
    "pcm = [\n",
    "    [67,99,100],\n",
    "    [99, 100, 76],\n",
    "    [90, 90, 100]\n",
    "]"
   ]
  },
  {
   "cell_type": "code",
   "execution_count": 38,
   "metadata": {},
   "outputs": [
    {
     "name": "stdout",
     "output_type": "stream",
     "text": [
      "[[ 67.  99. 100.]\n",
      " [ 99. 100.  76.]\n",
      " [ 90.  90. 100.]]\n",
      "<class 'numpy.ndarray'>\n",
      "2\n",
      "(3, 3)\n",
      "float16\n"
     ]
    }
   ],
   "source": [
    "n1 = np.array(pcm, dtype=np.float16)\n",
    "print(n1)\n",
    "print(type(n1))\n",
    "print(n1.ndim)\n",
    "print(n1.shape)\n",
    "print(n1.dtype)"
   ]
  },
  {
   "cell_type": "code",
   "execution_count": 6,
   "metadata": {},
   "outputs": [
    {
     "name": "stdout",
     "output_type": "stream",
     "text": [
      "[ 67.  99. 100.]\n",
      "99.0\n",
      "99.0\n",
      "90.0\n",
      "90.0\n",
      "[[ 67.  99. 100.]\n",
      " [ 90.  90. 100.]]\n",
      "[99. 90.]\n"
     ]
    }
   ],
   "source": [
    "# indexing\n",
    "print(n1[0])\n",
    "print(n1[0][1]) # do not do this way in 2D list\n",
    "print(n1[0,1])\n",
    "print(n1[2,0])  # Physics marks of 3rd student\n",
    "print(n1[-1,1]) # Chemistry marks by last student\n",
    "print(n1[[0, -1]])\n",
    "print(n1[[0, -1], 1]) # Chemistry marks of first and last student"
   ]
  },
  {
   "cell_type": "code",
   "execution_count": 39,
   "metadata": {},
   "outputs": [
    {
     "name": "stdout",
     "output_type": "stream",
     "text": [
      "[[ 67.  99. 100.]\n",
      " [ 99. 100.  76.]\n",
      " [ 90.  90. 100.]]\n",
      "[[ 99. 100.  76.]\n",
      " [ 90.  90. 100.]]\n",
      "[[100.  76.]\n",
      " [ 90. 100.]]\n",
      "[[ 67.  99.]\n",
      " [ 99. 100.]]\n",
      "[[ 99. 100.]\n",
      " [ 90. 100.]]\n"
     ]
    }
   ],
   "source": [
    "# slicing\n",
    "print(n1)\n",
    "print(n1[-2:])\n",
    "print(n1[-2:, 1:]) # chem and maths marks of last two students\n",
    "print(n1[:2,:2])# marks scored in Phy and chem for first 2 students\n",
    "print(n1[[0,-1],1:])# chem and maths by 1st and last student"
   ]
  },
  {
   "cell_type": "code",
   "execution_count": 7,
   "metadata": {},
   "outputs": [
    {
     "name": "stdout",
     "output_type": "stream",
     "text": [
      "[[ 67.  99. 100.]\n",
      " [ 99. 100.  76.]\n",
      " [ 90.  90. 100.]]\n",
      "[85.3 96.3 92. ]\n",
      "<class 'numpy.ndarray'>\n",
      "[266. 275. 280.]\n",
      "[[ 99.  76.]\n",
      " [ 90. 100.]]\n",
      "[ 4.5 12. ]\n"
     ]
    }
   ],
   "source": [
    "print(n1)\n",
    "# aggregations\n",
    "mean_marks = n1.mean(axis=0) # Mean alon axis 0 that is subject wise average\n",
    "print(mean_marks)\n",
    "print(type(mean_marks))\n",
    "print(n1.sum(axis=1))\n",
    "\n",
    "#std dev of the phy and math marks of last two students of the class\n",
    "phy_n_math = n1[-2:, [0, 2]]\n",
    "print(phy_n_math)\n",
    "std_phy_math = np.std(phy_n_math, axis=0)\n",
    "print(std_phy_math)"
   ]
  },
  {
   "cell_type": "code",
   "execution_count": 40,
   "metadata": {},
   "outputs": [
    {
     "name": "stdout",
     "output_type": "stream",
     "text": [
      "[  0   1   3   5  -9 -34   2   7  98  97  54 -23 123 -67  78  98   3   0\n",
      "  72 723]\n",
      "<class 'numpy.ndarray'>\n",
      "[ 5  6  7  8  9 10 11 12 13 14 15 16 17 18 19 20]\n"
     ]
    }
   ],
   "source": [
    "n1 = np.arange(30)\n",
    "n1 = np.array([0, 1, 3, 5, -9, -34, 2, 7, 98, 97, 54, -23, 123, -67, 78, 98, 3, 0, 72, 723])\n",
    "print(n1)\n",
    "print(type(n1))\n",
    "\n",
    "print(np.arange(5, 21))"
   ]
  },
  {
   "cell_type": "code",
   "execution_count": 42,
   "metadata": {},
   "outputs": [
    {
     "name": "stdout",
     "output_type": "stream",
     "text": [
      "[[0 1 2]\n",
      " [3 4 5]\n",
      " [6 7 8]]\n",
      "[[ 0  1  2  3  4]\n",
      " [ 5  6  7  8  9]\n",
      " [10 11 12 13 14]]\n"
     ]
    }
   ],
   "source": [
    "n2 = np.arange(9).reshape((3,3))\n",
    "print(n2)\n",
    "n35 = np.arange(15).reshape((3,5))\n",
    "print(n35)"
   ]
  },
  {
   "cell_type": "code",
   "execution_count": 10,
   "metadata": {},
   "outputs": [
    {
     "name": "stdout",
     "output_type": "stream",
     "text": [
      "[[0 3 6]\n",
      " [1 4 7]\n",
      " [2 5 8]]\n"
     ]
    }
   ],
   "source": [
    "n3 = n2.T\n",
    "print(n3)"
   ]
  }
 ],
 "metadata": {
  "celltoolbar": "Slideshow",
  "kernelspec": {
   "display_name": "Python 3",
   "language": "python",
   "name": "python3"
  },
  "language_info": {
   "codemirror_mode": {
    "name": "ipython",
    "version": 3
   },
   "file_extension": ".py",
   "mimetype": "text/x-python",
   "name": "python",
   "nbconvert_exporter": "python",
   "pygments_lexer": "ipython3",
   "version": "3.6.4"
  }
 },
 "nbformat": 4,
 "nbformat_minor": 2
}
