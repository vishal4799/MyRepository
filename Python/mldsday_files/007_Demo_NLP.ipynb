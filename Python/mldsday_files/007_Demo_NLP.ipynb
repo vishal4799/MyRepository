{
 "cells": [
  {
   "cell_type": "code",
   "execution_count": 1,
   "metadata": {},
   "outputs": [
    {
     "name": "stderr",
     "output_type": "stream",
     "text": [
      "C:\\ProgramData\\Anaconda3\\lib\\site-packages\\gensim\\utils.py:1197: UserWarning: detected Windows; aliasing chunkize to chunkize_serial\n",
      "  warnings.warn(\"detected Windows; aliasing chunkize to chunkize_serial\")\n"
     ]
    }
   ],
   "source": [
    "import gensim\n"
   ]
  },
  {
   "cell_type": "code",
   "execution_count": null,
   "metadata": {},
   "outputs": [],
   "source": [
    "#nltk.download()\n",
    "#conda install gensim"
   ]
  },
  {
   "cell_type": "code",
   "execution_count": 3,
   "metadata": {},
   "outputs": [
    {
     "name": "stdout",
     "output_type": "stream",
     "text": [
      "Number of documents: 14\n"
     ]
    }
   ],
   "source": [
    "raw_documents = [\"Individual Member Registration\",\n",
    "                 \"Individual Customer Registration\",\n",
    "             \"Non-individual Registration\",\n",
    "             \"Modify Individual Account Confirmation\",\n",
    "                 \"Modify Non-Individual confirmation\",\n",
    "                 \"Upload Documents\",\n",
    "                 \"Upload Signature\",\n",
    "                 \"Upload Photo\",\n",
    "                 \"View Documents\",\n",
    "                 \"Transaction Entry Receipt\",\n",
    "                 \"Transaction Entry Payment\",\n",
    "                 \"Create Fixed Deposit\",\n",
    "                 \"View Fixed Deposit\",\n",
    "            \"Close Fixed Deposit\"]\n",
    "print(\"Number of documents:\",len(raw_documents))"
   ]
  },
  {
   "cell_type": "code",
   "execution_count": 5,
   "metadata": {},
   "outputs": [
    {
     "name": "stdout",
     "output_type": "stream",
     "text": [
      "[['individual', 'member', 'registration'], ['individual', 'customer', 'registration'], ['non-individual', 'registration'], ['modify', 'individual', 'account', 'confirmation'], ['modify', 'non-individual', 'confirmation'], ['upload', 'documents'], ['upload', 'signature'], ['upload', 'photo'], ['view', 'documents'], ['transaction', 'entry', 'receipt'], ['transaction', 'entry', 'payment'], ['create', 'fixed', 'deposit'], ['view', 'fixed', 'deposit'], ['close', 'fixed', 'deposit']]\n"
     ]
    }
   ],
   "source": [
    "from nltk.tokenize import word_tokenize\n",
    "gen_docs = [[w.lower() for w in word_tokenize(text)] \n",
    "            for text in raw_documents]\n",
    "print(gen_docs)"
   ]
  },
  {
   "cell_type": "code",
   "execution_count": 6,
   "metadata": {},
   "outputs": [
    {
     "name": "stdout",
     "output_type": "stream",
     "text": [
      "account\n",
      "<class 'gensim.corpora.dictionary.Dictionary'>\n",
      "2\n",
      "Number of words in dictionary: 21\n",
      "0 individual\n",
      "1 member\n",
      "2 registration\n",
      "3 customer\n",
      "4 non-individual\n",
      "5 account\n",
      "6 confirmation\n",
      "7 modify\n",
      "8 documents\n",
      "9 upload\n",
      "10 signature\n",
      "11 photo\n",
      "12 view\n",
      "13 entry\n",
      "14 receipt\n",
      "15 transaction\n",
      "16 payment\n",
      "17 create\n",
      "18 deposit\n",
      "19 fixed\n",
      "20 close\n"
     ]
    }
   ],
   "source": [
    "dictionary = gensim.corpora.Dictionary(gen_docs)\n",
    "print(dictionary[5])\n",
    "print(type(dictionary))\n",
    "print(dictionary.token2id['registration'])\n",
    "print(\"Number of words in dictionary:\",len(dictionary))\n",
    "for i in range(len(dictionary)):\n",
    "    print(i, dictionary[i])"
   ]
  },
  {
   "cell_type": "code",
   "execution_count": 7,
   "metadata": {},
   "outputs": [
    {
     "name": "stdout",
     "output_type": "stream",
     "text": [
      "[[(0, 1), (1, 1), (2, 1)], [(0, 1), (2, 1), (3, 1)], [(2, 1), (4, 1)], [(0, 1), (5, 1), (6, 1), (7, 1)], [(4, 1), (6, 1), (7, 1)], [(8, 1), (9, 1)], [(9, 1), (10, 1)], [(9, 1), (11, 1)], [(8, 1), (12, 1)], [(13, 1), (14, 1), (15, 1)], [(13, 1), (15, 1), (16, 1)], [(17, 1), (18, 1), (19, 1)], [(12, 1), (18, 1), (19, 1)], [(18, 1), (19, 1), (20, 1)]]\n"
     ]
    }
   ],
   "source": [
    "corpus = [dictionary.doc2bow(gen_doc) for gen_doc in gen_docs]\n",
    "print(corpus)"
   ]
  },
  {
   "cell_type": "code",
   "execution_count": 9,
   "metadata": {},
   "outputs": [
    {
     "name": "stdout",
     "output_type": "stream",
     "text": [
      "TfidfModel(num_docs=14, num_nnz=38)\n",
      "38\n"
     ]
    }
   ],
   "source": [
    "tf_idf = gensim.models.TfidfModel(corpus)\n",
    "print(tf_idf)\n",
    "s = 0\n",
    "for i in corpus:\n",
    "    s += len(i)\n",
    "print(s)"
   ]
  },
  {
   "cell_type": "code",
   "execution_count": 10,
   "metadata": {},
   "outputs": [
    {
     "name": "stdout",
     "output_type": "stream",
     "text": [
      "Similarity index with 14 documents in 0 shards (stored under ./)\n",
      "<class 'gensim.similarities.docsim.Similarity'>\n"
     ]
    }
   ],
   "source": [
    "sims = gensim.similarities.Similarity('./',tf_idf[corpus],\n",
    "                                      num_features=len(dictionary))\n",
    "print(sims)\n",
    "print(type(sims))"
   ]
  },
  {
   "cell_type": "code",
   "execution_count": 11,
   "metadata": {},
   "outputs": [
    {
     "name": "stdout",
     "output_type": "stream",
     "text": [
      "['check', 'whether', 'the', 'fields', 'are', 'autofilled', 'after', 'selecting', 'account', 'number', 'in', 'fixed', 'deposit', '.']\n",
      "[(5, 1), (18, 1), (19, 1)]\n",
      "[(5, 0.7711873411544439), (18, 0.45015002212770105), (19, 0.45015002212770105)]\n"
     ]
    }
   ],
   "source": [
    "query_doc = [w.lower() for w in word_tokenize(\"Check whether the fields are autofilled after selecting account number in Fixed Deposit.\")]\n",
    "print(query_doc)\n",
    "query_doc_bow = dictionary.doc2bow(query_doc)\n",
    "print(query_doc_bow)\n",
    "query_doc_tf_idf = tf_idf[query_doc_bow]\n",
    "print(query_doc_tf_idf)"
   ]
  },
  {
   "cell_type": "code",
   "execution_count": 12,
   "metadata": {},
   "outputs": [
    {
     "data": {
      "text/plain": [
       "array([0.        , 0.        , 0.        , 0.49491155, 0.        ,\n",
       "       0.        , 0.        , 0.        , 0.        , 0.        ,\n",
       "       0.        , 0.40527007, 0.47478294, 0.40527007], dtype=float32)"
      ]
     },
     "execution_count": 12,
     "metadata": {},
     "output_type": "execute_result"
    }
   ],
   "source": [
    "sims[query_doc_tf_idf]"
   ]
  }
 ],
 "metadata": {
  "kernelspec": {
   "display_name": "Python 3",
   "language": "python",
   "name": "python3"
  },
  "language_info": {
   "codemirror_mode": {
    "name": "ipython",
    "version": 3
   },
   "file_extension": ".py",
   "mimetype": "text/x-python",
   "name": "python",
   "nbconvert_exporter": "python",
   "pygments_lexer": "ipython3",
   "version": "3.6.4"
  }
 },
 "nbformat": 4,
 "nbformat_minor": 2
}
