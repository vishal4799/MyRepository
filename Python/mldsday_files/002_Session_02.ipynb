{
 "cells": [
  {
   "cell_type": "code",
   "execution_count": null,
   "metadata": {},
   "outputs": [],
   "source": [
    "#Strings"
   ]
  },
  {
   "cell_type": "code",
   "execution_count": 8,
   "metadata": {},
   "outputs": [
    {
     "name": "stdout",
     "output_type": "stream",
     "text": [
      "to\n"
     ]
    }
   ],
   "source": [
    "#Strings\n",
    "a = \"WELCome\"\n",
    "b = \"to\"\n",
    "c = \"PYthon\"\n",
    "comma = \" , \"\n",
    "print(b)"
   ]
  },
  {
   "cell_type": "code",
   "execution_count": 9,
   "metadata": {},
   "outputs": [
    {
     "name": "stdout",
     "output_type": "stream",
     "text": [
      "WELCome , to , PYthon\n"
     ]
    }
   ],
   "source": [
    "z = a + comma + b + comma + c\n",
    "print(z)"
   ]
  },
  {
   "cell_type": "code",
   "execution_count": 10,
   "metadata": {},
   "outputs": [
    {
     "name": "stdout",
     "output_type": "stream",
     "text": [
      "True\n"
     ]
    }
   ],
   "source": [
    "print(z is z)"
   ]
  },
  {
   "cell_type": "code",
   "execution_count": 11,
   "metadata": {},
   "outputs": [
    {
     "name": "stdout",
     "output_type": "stream",
     "text": [
      "WELCome e\n",
      "7 21\n"
     ]
    }
   ],
   "source": [
    "#indexing,  \n",
    "print(a,a[6])\n",
    "print(len(a),len(z))"
   ]
  },
  {
   "cell_type": "code",
   "execution_count": 12,
   "metadata": {},
   "outputs": [
    {
     "name": "stdout",
     "output_type": "stream",
     "text": [
      "1\n"
     ]
    }
   ],
   "source": [
    "p='8'\n",
    "print(len(p))"
   ]
  },
  {
   "cell_type": "code",
   "execution_count": 13,
   "metadata": {},
   "outputs": [
    {
     "name": "stdout",
     "output_type": "stream",
     "text": [
      "WELCome\n",
      "W\n",
      "E\n",
      "L\n",
      "C\n",
      "o\n",
      "m\n",
      "e\n"
     ]
    }
   ],
   "source": [
    "print(a)\n",
    "for ele in a:    # ele = a[1]\n",
    "    print(ele)"
   ]
  },
  {
   "cell_type": "code",
   "execution_count": null,
   "metadata": {},
   "outputs": [],
   "source": []
  },
  {
   "cell_type": "code",
   "execution_count": 15,
   "metadata": {},
   "outputs": [
    {
     "name": "stdout",
     "output_type": "stream",
     "text": [
      "WELCome\n",
      "<class 'str'>\n",
      "W WWWWWW\n",
      "<class 'str'>\n",
      "E EEEEEE\n",
      "<class 'str'>\n",
      "L LLLLLL\n",
      "<class 'str'>\n",
      "C CCCCCC\n",
      "<class 'str'>\n",
      "o oooooo\n",
      "<class 'str'>\n",
      "m mmmmmm\n",
      "<class 'str'>\n",
      "e eeeeee\n"
     ]
    }
   ],
   "source": [
    "print(a)\n",
    "for i in a:\n",
    "    print(type(i))\n",
    "    print(i, i*6)   #"
   ]
  },
  {
   "cell_type": "code",
   "execution_count": 16,
   "metadata": {},
   "outputs": [
    {
     "name": "stdout",
     "output_type": "stream",
     "text": [
      "welcome\n",
      "WELCome\n"
     ]
    }
   ],
   "source": [
    "print(a.lower())   \n",
    "#print(a.lower() == a)\n",
    "print(a)\n"
   ]
  },
  {
   "cell_type": "code",
   "execution_count": 17,
   "metadata": {},
   "outputs": [
    {
     "name": "stdout",
     "output_type": "stream",
     "text": [
      "WELCOME\n",
      "WELCome\n"
     ]
    }
   ],
   "source": [
    "print(a.upper())\n",
    "print(a)"
   ]
  },
  {
   "cell_type": "code",
   "execution_count": 18,
   "metadata": {},
   "outputs": [
    {
     "name": "stdout",
     "output_type": "stream",
     "text": [
      "WELCome , to , PYthon\n",
      "WELCome , to , PYthon 21\n"
     ]
    }
   ],
   "source": [
    "#slicing\n",
    "z = a + comma + b + comma + c\n",
    "print(z)\n",
    "\n",
    "print(z, len(z))"
   ]
  },
  {
   "cell_type": "code",
   "execution_count": 20,
   "metadata": {},
   "outputs": [
    {
     "name": "stdout",
     "output_type": "stream",
     "text": [
      "L\n",
      "ome , to , PYthon\n"
     ]
    }
   ],
   "source": [
    "print(z[2])\n",
    "print(z[4:21])  #sliced"
   ]
  },
  {
   "cell_type": "code",
   "execution_count": 22,
   "metadata": {},
   "outputs": [
    {
     "name": "stdout",
     "output_type": "stream",
     "text": [
      "LCome , to , PYthon\n",
      "LCome , to , PYtho\n"
     ]
    }
   ],
   "source": [
    "print(z[2:])\n",
    "print(z[2:-1])"
   ]
  },
  {
   "cell_type": "code",
   "execution_count": 23,
   "metadata": {},
   "outputs": [
    {
     "name": "stdout",
     "output_type": "stream",
     "text": [
      "Y\n"
     ]
    }
   ],
   "source": [
    "print(z[-5])"
   ]
  },
  {
   "cell_type": "code",
   "execution_count": 29,
   "metadata": {},
   "outputs": [
    {
     "name": "stdout",
     "output_type": "stream",
     "text": [
      "WELCome , to , PYthon\n",
      "WELCome , to , PYthon 21\n",
      "L\n",
      "LCom\n",
      "LCome , to , PYthon\n",
      "o\n",
      "LCome , to , PYtho\n"
     ]
    }
   ],
   "source": [
    "#slicing\n",
    "z = a + comma + b + comma + c\n",
    "print(z)\n",
    "\n",
    "print(z, len(z))\n",
    "print(z[2])\n",
    "print(z[2:6])  #sliced\n",
    "print(z[2:])\n",
    "print(z[-2])\n",
    "print(z[2:-1])"
   ]
  },
  {
   "cell_type": "code",
   "execution_count": 27,
   "metadata": {},
   "outputs": [
    {
     "name": "stdout",
     "output_type": "stream",
     "text": [
      "WELCome , to , PYthon\n",
      "['WELC', 'me , t', ' , PYth', 'n']\n"
     ]
    }
   ],
   "source": [
    "print(z)\n",
    "print(z.split(\"o\"))"
   ]
  },
  {
   "cell_type": "code",
   "execution_count": null,
   "metadata": {},
   "outputs": [],
   "source": [
    "#list \n"
   ]
  },
  {
   "cell_type": "code",
   "execution_count": 31,
   "metadata": {},
   "outputs": [
    {
     "name": "stdout",
     "output_type": "stream",
     "text": [
      "['India', 67, 'Japan', 'Africa']\n",
      "<class 'list'>\n"
     ]
    }
   ],
   "source": [
    "#List \n",
    "lst = ['India',67,'Japan', 'Africa']\n",
    "print(lst)\n",
    "print(type(lst))"
   ]
  },
  {
   "cell_type": "code",
   "execution_count": 32,
   "metadata": {},
   "outputs": [
    {
     "name": "stdout",
     "output_type": "stream",
     "text": [
      "[75.9, '33.89', 89, 95, 99, 76, 75, 88, 43, 96, 75, 99]\n",
      "<class 'list'>\n"
     ]
    }
   ],
   "source": [
    "marks = [75.90, '33.89', 89, 95, 99, 76, 75, 88,43,96,75, 99]\n",
    "print(marks)\n",
    "print(type(marks))"
   ]
  },
  {
   "cell_type": "code",
   "execution_count": 33,
   "metadata": {},
   "outputs": [
    {
     "name": "stdout",
     "output_type": "stream",
     "text": [
      "12\n"
     ]
    }
   ],
   "source": [
    "print(len(marks))"
   ]
  },
  {
   "cell_type": "code",
   "execution_count": 34,
   "metadata": {},
   "outputs": [
    {
     "name": "stdout",
     "output_type": "stream",
     "text": [
      "492\n"
     ]
    }
   ],
   "source": [
    "marks = [50, 38, 60, 78, 90, 98, 78]\n",
    "sum = 0\n",
    "for mark in marks:\n",
    "    sum = sum + mark\n",
    "\n",
    "print(sum)"
   ]
  },
  {
   "cell_type": "code",
   "execution_count": 35,
   "metadata": {},
   "outputs": [
    {
     "name": "stdout",
     "output_type": "stream",
     "text": [
      "76\n",
      "[75, 33, 89, 95, 99, 'ABC', 75, 88, 43, 96, 75, 99]\n",
      "<class 'list'>\n"
     ]
    }
   ],
   "source": [
    "#mutable\n",
    "marks = [75, 33, 89, 95, 99, 76, 75, 88,43,96,75, 99]\n",
    "print(marks[5])\n",
    "marks[5] = 'ABC'\n",
    "print(marks)\n",
    "print(type(marks))"
   ]
  },
  {
   "cell_type": "code",
   "execution_count": 36,
   "metadata": {},
   "outputs": [
    {
     "name": "stdout",
     "output_type": "stream",
     "text": [
      "[75, 33, 89, 95, 99, 'ABC', 75, 88, 43, 96, 75, 99]\n",
      "[75, 33, 89, 95, 99]\n"
     ]
    }
   ],
   "source": [
    "print(marks)\n",
    "print(marks[0:5])"
   ]
  },
  {
   "cell_type": "code",
   "execution_count": 44,
   "metadata": {},
   "outputs": [
    {
     "name": "stdout",
     "output_type": "stream",
     "text": [
      "[95, 99, 'ABC', 75, 88, 43, 96, 75]\n"
     ]
    }
   ],
   "source": [
    "print(marks[3:-1])"
   ]
  },
  {
   "cell_type": "code",
   "execution_count": 37,
   "metadata": {},
   "outputs": [
    {
     "name": "stdout",
     "output_type": "stream",
     "text": [
      "[75, 33, 89, 95, 99, 'ABC', 75, 88, 43, 96, 75, 99]\n",
      "[33, 99, 88]\n"
     ]
    }
   ],
   "source": [
    "print(marks)\n",
    "print(marks[1:8:3])"
   ]
  },
  {
   "cell_type": "code",
   "execution_count": null,
   "metadata": {},
   "outputs": [],
   "source": []
  },
  {
   "cell_type": "code",
   "execution_count": 41,
   "metadata": {},
   "outputs": [
    {
     "name": "stdout",
     "output_type": "stream",
     "text": [
      "[75, 33, 89, 95, 99]\n",
      "[95, 99, 'ABC', 75, 88, 43, 96, 75]\n",
      "[33, 99, 88]\n"
     ]
    }
   ],
   "source": [
    "print(marks[0:5])\n",
    "print(marks[3:-1])\n",
    "print(marks[1:8:3])"
   ]
  },
  {
   "cell_type": "code",
   "execution_count": 40,
   "metadata": {},
   "outputs": [
    {
     "name": "stdout",
     "output_type": "stream",
     "text": [
      "(100, '30', [50.89, '88ABC', 99, 87], 545, 67) <class 'tuple'>\n"
     ]
    }
   ],
   "source": [
    "# tuples\n",
    "tp = (100,'30',[50.89,'88ABC', 99,87],545,67)\n",
    "print(tp,type(tp))"
   ]
  },
  {
   "cell_type": "code",
   "execution_count": 41,
   "metadata": {},
   "outputs": [
    {
     "name": "stdout",
     "output_type": "stream",
     "text": [
      "5\n"
     ]
    }
   ],
   "source": [
    "print(len(tp))"
   ]
  },
  {
   "cell_type": "code",
   "execution_count": null,
   "metadata": {},
   "outputs": [],
   "source": []
  },
  {
   "cell_type": "code",
   "execution_count": 42,
   "metadata": {},
   "outputs": [
    {
     "name": "stdout",
     "output_type": "stream",
     "text": [
      "[50.89, '88ABC', 99, 87] <class 'list'>\n"
     ]
    }
   ],
   "source": [
    "print(tp[2],type(tp[2]))"
   ]
  },
  {
   "cell_type": "code",
   "execution_count": 45,
   "metadata": {},
   "outputs": [
    {
     "name": "stdout",
     "output_type": "stream",
     "text": [
      "(100, '30', [50.89, '88ABC', 99, 87], 545, 67)\n",
      "545\n"
     ]
    }
   ],
   "source": [
    "#tuples are immutable\n",
    "print(tp)\n",
    "#tp[3] = 55\n",
    "print(tp[3])"
   ]
  },
  {
   "cell_type": "code",
   "execution_count": 46,
   "metadata": {},
   "outputs": [
    {
     "name": "stdout",
     "output_type": "stream",
     "text": [
      "87\n",
      "(100, '30', [50.89, '88ABC', 99], 87, 545, 67)\n",
      "6\n",
      "<class 'tuple'>\n"
     ]
    }
   ],
   "source": [
    "# tuples\n",
    "tp = (100,'30',[50.89,'88ABC', 99],87,545,67)\n",
    "#tp = tp + (1,2,3)\n",
    "print(tp[3])\n",
    "#tp[3] = 200 # tuples are immutable\n",
    "print(tp)\n",
    "print(len(tp))\n",
    "print(type(tp))"
   ]
  },
  {
   "cell_type": "code",
   "execution_count": 75,
   "metadata": {},
   "outputs": [
    {
     "name": "stdout",
     "output_type": "stream",
     "text": [
      "(100, '30', [50.89, '88ABC', 99], 87, 545, 67) 6\n",
      "('30', 87, 67)\n"
     ]
    }
   ],
   "source": [
    "print(tp,len(tp))\n",
    "print(tp[1:8:2])"
   ]
  },
  {
   "cell_type": "code",
   "execution_count": 47,
   "metadata": {},
   "outputs": [],
   "source": [
    "#Set\n",
    "st = {12,4,5,'a9','A9',90.9,6,5,4,12,12,12,8,8, 67, 78, 66} #Unique elements"
   ]
  },
  {
   "cell_type": "code",
   "execution_count": 49,
   "metadata": {},
   "outputs": [
    {
     "name": "stdout",
     "output_type": "stream",
     "text": [
      "{'a9', 67, 4, 5, 6, 66, 8, 'A9', 12, 78, 90.9} <class 'set'>\n"
     ]
    }
   ],
   "source": [
    "print(st,type(st))"
   ]
  },
  {
   "cell_type": "code",
   "execution_count": 79,
   "metadata": {},
   "outputs": [
    {
     "ename": "TypeError",
     "evalue": "'set' object does not support indexing",
     "output_type": "error",
     "traceback": [
      "\u001b[1;31m---------------------------------------------------------------------------\u001b[0m",
      "\u001b[1;31mTypeError\u001b[0m                                 Traceback (most recent call last)",
      "\u001b[1;32m<ipython-input-79-5db82c9a72c1>\u001b[0m in \u001b[0;36m<module>\u001b[1;34m()\u001b[0m\n\u001b[1;32m----> 1\u001b[1;33m \u001b[0mprint\u001b[0m\u001b[1;33m(\u001b[0m\u001b[0mst\u001b[0m\u001b[1;33m[\u001b[0m\u001b[1;36m0\u001b[0m\u001b[1;33m]\u001b[0m\u001b[1;33m)\u001b[0m\u001b[1;33m\u001b[0m\u001b[0m\n\u001b[0m",
      "\u001b[1;31mTypeError\u001b[0m: 'set' object does not support indexing"
     ]
    }
   ],
   "source": [
    "#print(st[0])  #TypeError: 'set' object does not support indexing"
   ]
  },
  {
   "cell_type": "code",
   "execution_count": 50,
   "metadata": {},
   "outputs": [
    {
     "name": "stdout",
     "output_type": "stream",
     "text": [
      "{'a9', 67, 4, 5, 6, 66, 8, 'A9', 12, 78, 90.9}\n",
      "<class 'set'>\n"
     ]
    }
   ],
   "source": [
    "#Set\n",
    "st = {12,4,5,'a9','A9',90.9,6,5,4,12,12,12,8,8, 67, 78, 66}\n",
    "#print(st[0])\n",
    "#st[0] = 69\n",
    "print(st)\n",
    "print(type(st))"
   ]
  },
  {
   "cell_type": "code",
   "execution_count": 55,
   "metadata": {},
   "outputs": [
    {
     "name": "stdout",
     "output_type": "stream",
     "text": [
      "{'India': 'New Delhi', 'china': 'Shanghai', 'Japan': 'Tokyo', 'China': 'XYZ'}\n",
      "<class 'dict'>\n"
     ]
    }
   ],
   "source": [
    "#dictionary  { key : val}\n",
    "dt = {\"India\" : \"New Delhi\", 'china' : \"Shanghai\", \"Japan\" : \"Tokyo\" , 'China' : 'XYZ' }\n",
    "print(dt)\n",
    "print(type(dt))"
   ]
  },
  {
   "cell_type": "code",
   "execution_count": 56,
   "metadata": {},
   "outputs": [
    {
     "name": "stdout",
     "output_type": "stream",
     "text": [
      "Shanghai XYZ\n"
     ]
    }
   ],
   "source": [
    "print(dt[\"china\"],dt['China'])"
   ]
  },
  {
   "cell_type": "code",
   "execution_count": null,
   "metadata": {},
   "outputs": [],
   "source": [
    "list   [ , , ] Mutable\n",
    "tuple   ( , , ) immutable\n",
    "set    { , , }  immutable, indexing not supported\n",
    "dict   { k:v, k:v} Mutable"
   ]
  },
  {
   "cell_type": "code",
   "execution_count": 57,
   "metadata": {},
   "outputs": [
    {
     "name": "stdout",
     "output_type": "stream",
     "text": [
      "{'India': 'New Delhi', 'china': 'Shanghai', 'Japan': 'Tokyo', 'China': 'XYZ'}\n",
      "{'India': 'New Delhi', 'china': 'XYZ', 'Japan': 'Tokyo', 'China': 'XYZ'}\n",
      "<class 'dict'>\n"
     ]
    }
   ],
   "source": [
    "print(dt)\n",
    "dt['china'] = 'XYZ'\n",
    "print(dt)\n",
    "print(type(dt))"
   ]
  },
  {
   "cell_type": "code",
   "execution_count": null,
   "metadata": {},
   "outputs": [],
   "source": []
  },
  {
   "cell_type": "code",
   "execution_count": 59,
   "metadata": {},
   "outputs": [
    {
     "name": "stdout",
     "output_type": "stream",
     "text": [
      "{}\n",
      "<class 'dict'>\n"
     ]
    }
   ],
   "source": [
    "# empty set\n",
    "s2 = {}\n",
    "print(s2)\n",
    "print(type(s2))"
   ]
  },
  {
   "cell_type": "code",
   "execution_count": 60,
   "metadata": {},
   "outputs": [
    {
     "name": "stdout",
     "output_type": "stream",
     "text": [
      "set()\n",
      "<class 'set'>\n"
     ]
    }
   ],
   "source": [
    "s2 = set()\n",
    "print(s2)\n",
    "print(type(s2))"
   ]
  },
  {
   "cell_type": "code",
   "execution_count": 61,
   "metadata": {},
   "outputs": [
    {
     "name": "stdout",
     "output_type": "stream",
     "text": [
      "{'pqr', 10, 5, 6}\n"
     ]
    }
   ],
   "source": [
    "s2.add(5)\n",
    "\n",
    "s2.add(6)\n",
    "s2.add(5)\n",
    "s2.add(10)\n",
    "s2.add('pqr')\n",
    "print(s2)"
   ]
  },
  {
   "cell_type": "code",
   "execution_count": 95,
   "metadata": {},
   "outputs": [
    {
     "name": "stdout",
     "output_type": "stream",
     "text": [
      "{1, 3, 4, 5, 10} {2, 3, 5, 8, 9}\n"
     ]
    }
   ],
   "source": [
    "m1 = {10, 4, 5, 1, 3}\n",
    "m2 = {8, 5, 3, 9, 2}\n",
    "print(m1,m2)"
   ]
  },
  {
   "cell_type": "code",
   "execution_count": 62,
   "metadata": {},
   "outputs": [
    {
     "name": "stdout",
     "output_type": "stream",
     "text": [
      "{1, 3, 4, 5, 10} {2, 3, 5, 8, 9}\n"
     ]
    }
   ],
   "source": [
    "m1 = {10, 4, 5, 1, 3}\n",
    "m2 = {8, 5, 3, 9, 2}\n",
    "print(m1,m2)"
   ]
  },
  {
   "cell_type": "code",
   "execution_count": 63,
   "metadata": {},
   "outputs": [
    {
     "name": "stdout",
     "output_type": "stream",
     "text": [
      "{1, 10, 4}\n",
      "{8, 9, 2}\n",
      "{3, 5}\n",
      "{1, 2, 3, 4, 5, 8, 9, 10}\n",
      "{1, 2, 4, 8, 9, 10}\n"
     ]
    }
   ],
   "source": [
    "print(m1 - m2)  # Set A - B\n",
    "print(m2 - m1)  # Set A - B\n",
    "print(m1 & m2)  # Intersection of sets\n",
    "print(m1 | m2)  # Union of sets\n",
    "print(m1 ^ m2)  # complement of set intersection"
   ]
  },
  {
   "cell_type": "code",
   "execution_count": null,
   "metadata": {},
   "outputs": [],
   "source": [
    "#File Operations"
   ]
  },
  {
   "cell_type": "code",
   "execution_count": 97,
   "metadata": {},
   "outputs": [],
   "source": [
    "path = './marks.csv'"
   ]
  },
  {
   "cell_type": "code",
   "execution_count": 98,
   "metadata": {},
   "outputs": [
    {
     "name": "stdout",
     "output_type": "stream",
     "text": [
      "<class '_io.TextIOWrapper'>\n"
     ]
    }
   ],
   "source": [
    "fp = open(path, mode='r')\n",
    "print(type(fp))"
   ]
  },
  {
   "cell_type": "code",
   "execution_count": 99,
   "metadata": {},
   "outputs": [
    {
     "name": "stdout",
     "output_type": "stream",
     "text": [
      "Mehul,m,10,99\n",
      "\n",
      "Anand,m,9,78\n",
      "\n",
      "Jane,f,11,56\n",
      "\n",
      "John,m,7,67\n"
     ]
    }
   ],
   "source": [
    "for line in fp:\n",
    "    print(line) # nothing since reached to EOF because of the upper for loop"
   ]
  },
  {
   "cell_type": "code",
   "execution_count": 100,
   "metadata": {},
   "outputs": [],
   "source": [
    "wpath = './test.csv'"
   ]
  },
  {
   "cell_type": "code",
   "execution_count": 101,
   "metadata": {},
   "outputs": [],
   "source": [
    "fw = open(wpath, mode='w')"
   ]
  },
  {
   "cell_type": "code",
   "execution_count": 102,
   "metadata": {},
   "outputs": [],
   "source": [
    "lst = [\n",
    "    ('anand', 94, 93, 97),\n",
    "    ('Jane',67, 89, 90),\n",
    "    ('John',99,100, 100)\n",
    "]"
   ]
  },
  {
   "cell_type": "code",
   "execution_count": 103,
   "metadata": {},
   "outputs": [
    {
     "name": "stdout",
     "output_type": "stream",
     "text": [
      "anand|94|93|97\n",
      "Jane|67|89|90\n",
      "John|99|100|100\n",
      "\n"
     ]
    }
   ],
   "source": [
    "details = ''\n",
    "for line in lst:\n",
    "    details += line[0] + '|' + str(line[1]) + '|' + str(line[2]) + '|' + str(line[3]) +'\\n'\n",
    "\n",
    "print(details)\n",
    "fw.write(details)\n",
    "fw.close()"
   ]
  },
  {
   "cell_type": "code",
   "execution_count": null,
   "metadata": {},
   "outputs": [],
   "source": [
    "Lambda\n",
    "Python supports the creation of anonymous functions at runtime, using a construct called lambda\n",
    "This approach is most commonly used when passing a simple function as an argument to another function.\n",
    "Lambdas are generally used in conjunction with typical functional concepts like filter(), map() and reduce()."
   ]
  },
  {
   "cell_type": "code",
   "execution_count": 64,
   "metadata": {},
   "outputs": [],
   "source": [
    "def add(a,b):\n",
    "    res = a+b\n",
    "    return res\n"
   ]
  },
  {
   "cell_type": "code",
   "execution_count": 65,
   "metadata": {},
   "outputs": [
    {
     "data": {
      "text/plain": [
       "5"
      ]
     },
     "execution_count": 65,
     "metadata": {},
     "output_type": "execute_result"
    }
   ],
   "source": [
    "add(2,3)"
   ]
  },
  {
   "cell_type": "code",
   "execution_count": 107,
   "metadata": {},
   "outputs": [
    {
     "data": {
      "text/plain": [
       "5"
      ]
     },
     "execution_count": 107,
     "metadata": {},
     "output_type": "execute_result"
    }
   ],
   "source": [
    "# this is the same as our add() function\n",
    "add_lambda = lambda a, b: a + b\n",
    "\n",
    "add_lambda(2,3)"
   ]
  },
  {
   "cell_type": "code",
   "execution_count": 67,
   "metadata": {},
   "outputs": [],
   "source": [
    "# example: these two are equivalent\n",
    "import math\n",
    "def square_root(x):\n",
    "    return math.sqrt(x) if x > 0 else None\n",
    "\n",
    "square_root_lambda = lambda x: math.sqrt(x) if x > 0 else None\n",
    "\n",
    "square_root_lambda(-10)"
   ]
  },
  {
   "cell_type": "code",
   "execution_count": null,
   "metadata": {},
   "outputs": [],
   "source": [
    "#map\n",
    "# map(function, sequence) \n",
    "# calls function(item) for each of the sequence’s items and returns a list of the returned values."
   ]
  },
  {
   "cell_type": "code",
   "execution_count": 68,
   "metadata": {},
   "outputs": [
    {
     "name": "stdout",
     "output_type": "stream",
     "text": [
      "[0, 1, 2, 3, 4, 5, 6, 7, 8, 9] <class 'list'>\n"
     ]
    }
   ],
   "source": [
    "numbers = list(range(10))\n",
    "print(numbers, type(numbers))\n",
    "def square(num):\n",
    "    return num * num"
   ]
  },
  {
   "cell_type": "code",
   "execution_count": 71,
   "metadata": {},
   "outputs": [
    {
     "name": "stdout",
     "output_type": "stream",
     "text": [
      "<map object at 0x0000025202D213C8>\n",
      "[0, 1, 4, 9, 16, 25, 36, 49, 64, 81] <class 'list'>\n"
     ]
    }
   ],
   "source": [
    "print(map(square, numbers))\n",
    "res = list(map(square, numbers))\n",
    "print(res,type(res))"
   ]
  },
  {
   "cell_type": "code",
   "execution_count": 72,
   "metadata": {},
   "outputs": [
    {
     "name": "stdout",
     "output_type": "stream",
     "text": [
      "[0, 1, 4, 9, 16, 25, 36, 49, 64, 81]\n"
     ]
    }
   ],
   "source": [
    "# same thing using lambda\n",
    "\n",
    "print(list(map(lambda x: x * x, numbers)))\n"
   ]
  },
  {
   "cell_type": "code",
   "execution_count": null,
   "metadata": {},
   "outputs": [],
   "source": [
    "print(list(map(lambda x,y: x * y, numbers)))"
   ]
  },
  {
   "cell_type": "code",
   "execution_count": null,
   "metadata": {},
   "outputs": [],
   "source": [
    "# filter(function, sequence) returns a sequence consisting of those\n",
    "# items from the sequence for which function(item) is true."
   ]
  },
  {
   "cell_type": "code",
   "execution_count": 74,
   "metadata": {},
   "outputs": [
    {
     "name": "stdout",
     "output_type": "stream",
     "text": [
      "[0, 1, 2, 3, 4, 5, 6, 7, 8, 9]\n"
     ]
    }
   ],
   "source": [
    "numbers = list(range(10))\n",
    "print(numbers)"
   ]
  },
  {
   "cell_type": "code",
   "execution_count": 75,
   "metadata": {},
   "outputs": [],
   "source": [
    "is_even_lambda = lambda x: x % 2 == 0"
   ]
  },
  {
   "cell_type": "code",
   "execution_count": 77,
   "metadata": {},
   "outputs": [
    {
     "name": "stdout",
     "output_type": "stream",
     "text": [
      "[0, 1, 2, 3, 4, 5, 6, 7, 8, 9]\n",
      "[0, 2, 4, 6, 8]\n"
     ]
    }
   ],
   "source": [
    "print(numbers)\n",
    "\n",
    "print(list(filter(is_even_lambda, numbers)))"
   ]
  },
  {
   "cell_type": "code",
   "execution_count": 78,
   "metadata": {},
   "outputs": [],
   "source": [
    "def is_even(x):\n",
    "    return x % 2 == 0"
   ]
  },
  {
   "cell_type": "code",
   "execution_count": 80,
   "metadata": {},
   "outputs": [
    {
     "name": "stdout",
     "output_type": "stream",
     "text": [
      "[0, 2, 4, 6, 8]\n"
     ]
    }
   ],
   "source": [
    "print(list(filter(is_even, numbers)))"
   ]
  },
  {
   "cell_type": "code",
   "execution_count": 8,
   "metadata": {},
   "outputs": [
    {
     "name": "stdout",
     "output_type": "stream",
     "text": [
      "[0, 1, 2, 3, 4, 5, 6, 7, 8, 9]\n",
      "<filter object at 0x000001E224F3C160>\n",
      "<filter object at 0x000001E224F3C518>\n"
     ]
    }
   ],
   "source": [
    "numbers = list(range(10))\n",
    "\n",
    "def is_even(x):\n",
    "    return x % 2 == 0\n",
    "\n",
    "is_even_lambda = lambda x: x % 2 == 0\n",
    "\n",
    "print(numbers)\n",
    "print(filter(is_even, numbers))\n",
    "print(filter(is_even_lambda, numbers))"
   ]
  },
  {
   "cell_type": "code",
   "execution_count": 9,
   "metadata": {},
   "outputs": [
    {
     "name": "stdout",
     "output_type": "stream",
     "text": [
      "[0, 2, 4, 6, 8]\n"
     ]
    }
   ],
   "source": [
    "res_list = list(filter(is_even, numbers))\n",
    "print(res_list)"
   ]
  },
  {
   "cell_type": "code",
   "execution_count": 13,
   "metadata": {},
   "outputs": [],
   "source": [
    "#help()"
   ]
  }
 ],
 "metadata": {
  "kernelspec": {
   "display_name": "Python 3",
   "language": "python",
   "name": "python3"
  },
  "language_info": {
   "codemirror_mode": {
    "name": "ipython",
    "version": 3
   },
   "file_extension": ".py",
   "mimetype": "text/x-python",
   "name": "python",
   "nbconvert_exporter": "python",
   "pygments_lexer": "ipython3",
   "version": "3.6.4"
  }
 },
 "nbformat": 4,
 "nbformat_minor": 2
}
