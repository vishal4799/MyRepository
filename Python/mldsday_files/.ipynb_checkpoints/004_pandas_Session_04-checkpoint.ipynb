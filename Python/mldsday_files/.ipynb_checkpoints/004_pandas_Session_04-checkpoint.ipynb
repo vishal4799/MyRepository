{
 "cells": [
  {
   "cell_type": "code",
   "execution_count": 5,
   "metadata": {},
   "outputs": [
    {
     "ename": "ModuleNotFoundError",
     "evalue": "No module named 'pandas'",
     "output_type": "error",
     "traceback": [
      "\u001b[1;31m---------------------------------------------------------------------------\u001b[0m",
      "\u001b[1;31mModuleNotFoundError\u001b[0m                       Traceback (most recent call last)",
      "\u001b[1;32m<ipython-input-5-5fc0bfd4ec35>\u001b[0m in \u001b[0;36m<module>\u001b[1;34m\u001b[0m\n\u001b[1;32m----> 1\u001b[1;33m \u001b[1;32mimport\u001b[0m \u001b[0mpandas\u001b[0m \u001b[1;32mas\u001b[0m \u001b[0mpd\u001b[0m\u001b[1;33m\u001b[0m\u001b[1;33m\u001b[0m\u001b[0m\n\u001b[0m\u001b[0;32m      2\u001b[0m \u001b[1;32mimport\u001b[0m \u001b[0mnumpy\u001b[0m \u001b[1;32mas\u001b[0m \u001b[0mnp\u001b[0m\u001b[1;33m\u001b[0m\u001b[1;33m\u001b[0m\u001b[0m\n\u001b[0;32m      3\u001b[0m \u001b[1;32mfrom\u001b[0m \u001b[0mpandas\u001b[0m \u001b[1;32mimport\u001b[0m \u001b[0mSeries\u001b[0m\u001b[1;33m\u001b[0m\u001b[1;33m\u001b[0m\u001b[0m\n\u001b[0;32m      4\u001b[0m \u001b[1;32mimport\u001b[0m \u001b[0mmatplotlib\u001b[0m\u001b[1;33m.\u001b[0m\u001b[0mpyplot\u001b[0m \u001b[1;32mas\u001b[0m \u001b[0mplt\u001b[0m\u001b[1;33m\u001b[0m\u001b[1;33m\u001b[0m\u001b[0m\n",
      "\u001b[1;31mModuleNotFoundError\u001b[0m: No module named 'pandas'"
     ]
    }
   ],
   "source": [
    "import pandas as pd\n",
    "import numpy as np\n",
    "from pandas import Series\n",
    "import matplotlib.pyplot as plt"
   ]
  },
  {
   "cell_type": "code",
   "execution_count": 7,
   "metadata": {},
   "outputs": [],
   "source": [
    "pointers = [10, 10, 4, 5, 1, 2, 3, 3, 3, 10]"
   ]
  },
  {
   "cell_type": "code",
   "execution_count": 8,
   "metadata": {},
   "outputs": [
    {
     "name": "stdout",
     "output_type": "stream",
     "text": [
      "0    10\n",
      "1    10\n",
      "2     4\n",
      "3     5\n",
      "4     1\n",
      "5     2\n",
      "6     3\n",
      "7     3\n",
      "8     3\n",
      "9    10\n",
      "dtype: int64\n",
      "<class 'pandas.core.series.Series'>\n"
     ]
    }
   ],
   "source": [
    "s1 = Series(pointers)\n",
    "print(s1)\n",
    "print(type(s1))"
   ]
  },
  {
   "cell_type": "markdown",
   "metadata": {},
   "source": [
    "Above Series 1st col is index can be of any datatype : different than Key\n"
   ]
  },
  {
   "cell_type": "code",
   "execution_count": 9,
   "metadata": {},
   "outputs": [
    {
     "name": "stdout",
     "output_type": "stream",
     "text": [
      "[10 10  4  5  1  2  3  3  3 10]\n",
      "<class 'numpy.ndarray'>\n"
     ]
    }
   ],
   "source": [
    "v = s1.values\n",
    "print(v)\n",
    "print(type(v))"
   ]
  },
  {
   "cell_type": "code",
   "execution_count": 10,
   "metadata": {},
   "outputs": [
    {
     "name": "stdout",
     "output_type": "stream",
     "text": [
      "[10, 10, 4, 5, 1, 2, 3, 3, 3, 10]\n",
      "Roll No\n",
      "1     10\n",
      "4     10\n",
      "5      4\n",
      "2      5\n",
      "3      1\n",
      "10     2\n",
      "9      3\n",
      "8      3\n",
      "6      3\n",
      "11    10\n",
      "Name: Pointers out of 10, dtype: int8\n"
     ]
    }
   ],
   "source": [
    "print(pointers)\n",
    "roll_nos = [ 1, 4, 5, 2, 3, 10, 9, 8, 6, 11]\n",
    "s2 = Series(pointers, index=roll_nos, dtype=np.int8)\n",
    "s2.index.name = 'Roll No'\n",
    "s2.name = 'Pointers out of 10'\n",
    "print(s2)"
   ]
  },
  {
   "cell_type": "markdown",
   "metadata": {},
   "source": [
    "index in a series can be duplicate \n",
    "its like a key in a dict data structure but it may not be unique like key\n",
    "In pandas every value is tightly bound to index\n",
    "Index in pandas can be of any data type"
   ]
  },
  {
   "cell_type": "code",
   "execution_count": 11,
   "metadata": {},
   "outputs": [
    {
     "name": "stdout",
     "output_type": "stream",
     "text": [
      "1     10\n",
      "2      5\n",
      "4      6\n",
      "7     10\n",
      "10     3\n",
      "dtype: int8\n"
     ]
    }
   ],
   "source": [
    "marks = {10:3, 1:10, 2: 5, 4:6, 7:10}\n",
    "s3 = Series(marks, dtype=np.int8)\n",
    "print(s3)"
   ]
  },
  {
   "cell_type": "code",
   "execution_count": 7,
   "metadata": {},
   "outputs": [
    {
     "name": "stdout",
     "output_type": "stream",
     "text": [
      "10     3\n",
      "7     10\n",
      "4      6\n",
      "2      5\n",
      "1     10\n",
      "dtype: int8\n",
      "<class 'pandas.core.series.Series'>\n"
     ]
    }
   ],
   "source": [
    "s4 = s3.sort_index(ascending=False)\n",
    "print(s4)\n",
    "print(type(s4))"
   ]
  },
  {
   "cell_type": "code",
   "execution_count": 8,
   "metadata": {},
   "outputs": [
    {
     "name": "stdout",
     "output_type": "stream",
     "text": [
      "1     10\n",
      "2      5\n",
      "4      6\n",
      "7     10\n",
      "10     3\n",
      "dtype: int8\n"
     ]
    }
   ],
   "source": [
    "print(s3)\n",
    "#s5 = s3.sorted"
   ]
  },
  {
   "cell_type": "code",
   "execution_count": 12,
   "metadata": {},
   "outputs": [
    {
     "name": "stdout",
     "output_type": "stream",
     "text": [
      "Roll No\n",
      "1     10\n",
      "4     10\n",
      "5      4\n",
      "2      5\n",
      "3      1\n",
      "10     2\n",
      "9      3\n",
      "8      3\n",
      "6      3\n",
      "11    10\n",
      "Name: Pointers out of 10, dtype: int8\n",
      "1\n",
      "4\n",
      "Roll No\n",
      "2     5\n",
      "10    2\n",
      "Name: Pointers out of 10, dtype: int8\n",
      "10\n",
      "3\n",
      "10\n",
      "Roll No\n",
      "1     10\n",
      "11    10\n",
      "Name: Pointers out of 10, dtype: int8\n"
     ]
    }
   ],
   "source": [
    "print(s2)\n",
    "# print(s2[10]) # indexing using series index\n",
    "# print(s2[4]) # indexing using series index\n",
    "# print(s2[[10, 11]]) # multiple series indexing\n",
    "\n",
    "# alternate and prescribed by pandas than above\n",
    "print(s2.loc[3])\n",
    "print(s2.loc[5])\n",
    "print(s2.loc[[2,10]])\n",
    "\n",
    "print(s2.iloc[-1])   # iloc = index location :: indexing using native indices\n",
    "print(s2.iloc[-2])   # iloc = index location :: indexing using native indices\n",
    "print(s2.iloc[0])    # iloc = index location :: indexing using native indices\n",
    "print(s2.iloc[[0, -1]])"
   ]
  },
  {
   "cell_type": "markdown",
   "metadata": {},
   "source": [
    "slicing in a series"
   ]
  },
  {
   "cell_type": "code",
   "execution_count": 10,
   "metadata": {},
   "outputs": [
    {
     "name": "stdout",
     "output_type": "stream",
     "text": [
      "Roll No\n",
      "1     10\n",
      "2      5\n",
      "3      1\n",
      "4     10\n",
      "5      4\n",
      "6      3\n",
      "8      3\n",
      "9      3\n",
      "10     2\n",
      "11    10\n",
      "Name: Pointers out of 10, dtype: int8\n",
      "Roll No\n",
      "1    10\n",
      "2     5\n",
      "3     1\n",
      "4    10\n",
      "5     4\n",
      "6     3\n",
      "Name: Pointers out of 10, dtype: int8\n",
      "Roll No\n",
      "1    10\n",
      "2     5\n",
      "3     1\n",
      "4    10\n",
      "5     4\n",
      "6     3\n",
      "Name: Pointers out of 10, dtype: int8\n"
     ]
    }
   ],
   "source": [
    "# print(s2)\n",
    "# print(s2[:3])  # regular slicing syntax\n",
    "# print(s2[-3:])  # regular slicing syntax\n",
    "\n",
    "s5 = s2.sort_index(ascending=True)\n",
    "print(s5)\n",
    "print(s5.loc[1:7]) # series indexing based slicing\n",
    "print(s5.loc[1:6]) # end index is inclusive unlike the one in regular slicing"
   ]
  },
  {
   "cell_type": "markdown",
   "metadata": {},
   "source": [
    "Filtering in Series -> eg. print all people scored 10 pointers"
   ]
  },
  {
   "cell_type": "code",
   "execution_count": 13,
   "metadata": {},
   "outputs": [
    {
     "name": "stdout",
     "output_type": "stream",
     "text": [
      "Roll No\n",
      "1     10\n",
      "4     10\n",
      "5      4\n",
      "2      5\n",
      "3      1\n",
      "10     2\n",
      "9      3\n",
      "8      3\n",
      "6      3\n",
      "11    10\n",
      "Name: Pointers out of 10, dtype: int8\n",
      "Roll No\n",
      "1     10\n",
      "4     10\n",
      "11    10\n",
      "Name: Pointers out of 10, dtype: int8\n"
     ]
    }
   ],
   "source": [
    "print(s2)\n",
    "s6 = s2[ s2 == 10]\n",
    "print(s6)"
   ]
  },
  {
   "cell_type": "code",
   "execution_count": 12,
   "metadata": {},
   "outputs": [
    {
     "name": "stdout",
     "output_type": "stream",
     "text": [
      "Roll No\n",
      "1     10\n",
      "4     10\n",
      "5      4\n",
      "2      5\n",
      "3      1\n",
      "10     2\n",
      "9      3\n",
      "8      3\n",
      "6      3\n",
      "11    10\n",
      "Name: Pointers out of 10, dtype: int8\n",
      "Roll No\n",
      "1      True\n",
      "4      True\n",
      "5     False\n",
      "2     False\n",
      "3     False\n",
      "10    False\n",
      "9     False\n",
      "8     False\n",
      "6     False\n",
      "11     True\n",
      "Name: Pointers out of 10, dtype: bool\n",
      "Roll No\n",
      "1     10\n",
      "4     10\n",
      "11    10\n",
      "Name: Pointers out of 10, dtype: int8\n"
     ]
    }
   ],
   "source": [
    "print(s2)\n",
    "print(s2 == 10)\n",
    "print(s2[s2 == 10])"
   ]
  },
  {
   "cell_type": "code",
   "execution_count": 13,
   "metadata": {},
   "outputs": [
    {
     "name": "stdout",
     "output_type": "stream",
     "text": [
      "Roll No\n",
      "1     10\n",
      "4     10\n",
      "5      4\n",
      "2      5\n",
      "3      1\n",
      "10     2\n",
      "9      3\n",
      "8      3\n",
      "6      3\n",
      "11    10\n",
      "Name: Pointers out of 10, dtype: int8\n",
      "Roll No\n",
      "10    2\n",
      "9     3\n",
      "8     3\n",
      "6     3\n",
      "5     4\n",
      "3     1\n",
      "2     5\n",
      "Name: Pointers out of 10, dtype: int8\n",
      "Roll No\n",
      "1     10\n",
      "4     10\n",
      "5      4\n",
      "2      5\n",
      "3      1\n",
      "10     2\n",
      "9      3\n",
      "8      3\n",
      "6      3\n",
      "11    10\n",
      "Name: Pointers out of 10, dtype: int8\n"
     ]
    }
   ],
   "source": [
    "print(s2)\n",
    "print(s2[s2 <= 5].sort_index(ascending=False))\n",
    "print(s2)"
   ]
  },
  {
   "cell_type": "markdown",
   "metadata": {},
   "source": [
    "Filtering Plus assignment -- > Deduct 1 for all scored 10 pointers"
   ]
  },
  {
   "cell_type": "code",
   "execution_count": 14,
   "metadata": {},
   "outputs": [
    {
     "name": "stdout",
     "output_type": "stream",
     "text": [
      "Roll No\n",
      "1     10\n",
      "4     10\n",
      "5      4\n",
      "2      5\n",
      "3      1\n",
      "10     2\n",
      "9      3\n",
      "8      3\n",
      "6      3\n",
      "11    10\n",
      "Name: Pointers out of 10, dtype: int8\n",
      "Roll No\n",
      "1     9\n",
      "4     9\n",
      "5     4\n",
      "2     5\n",
      "3     1\n",
      "10    2\n",
      "9     3\n",
      "8     3\n",
      "6     3\n",
      "11    9\n",
      "Name: Pointers out of 10, dtype: int8\n"
     ]
    }
   ],
   "source": [
    "print(s2)\n",
    "s2[s2 ==10] = 9 # filtering + Assignment in one step \n",
    "print(s2)"
   ]
  },
  {
   "cell_type": "markdown",
   "metadata": {},
   "source": [
    "Aggregation"
   ]
  },
  {
   "cell_type": "code",
   "execution_count": 15,
   "metadata": {},
   "outputs": [
    {
     "name": "stdout",
     "output_type": "stream",
     "text": [
      "Roll No\n",
      "1     9\n",
      "4     9\n",
      "5     4\n",
      "2     5\n",
      "3     1\n",
      "10    2\n",
      "9     3\n",
      "8     3\n",
      "6     3\n",
      "11    9\n",
      "Name: Pointers out of 10, dtype: int8\n",
      "4.8\n",
      "3.5\n",
      "count    10.000000\n",
      "mean      4.800000\n",
      "std       3.084009\n",
      "min       1.000000\n",
      "25%       3.000000\n",
      "50%       3.500000\n",
      "75%       8.000000\n",
      "max       9.000000\n",
      "Name: Pointers out of 10, dtype: float64\n"
     ]
    }
   ],
   "source": [
    "print(s2)\n",
    "print(s2.mean())\n",
    "print(s2.median())\n",
    "print(s2.describe()) # all stastical properties described in a new series"
   ]
  },
  {
   "cell_type": "code",
   "execution_count": 16,
   "metadata": {},
   "outputs": [
    {
     "name": "stdout",
     "output_type": "stream",
     "text": [
      "Roll No\n",
      "1     9\n",
      "4     9\n",
      "5     4\n",
      "2     5\n",
      "3     1\n",
      "10    2\n",
      "9     3\n",
      "8     3\n",
      "6     3\n",
      "11    9\n",
      "Name: Pointers out of 10, dtype: int8\n",
      "[9 4 5 1 2 3] <class 'numpy.ndarray'>\n",
      "9    3\n",
      "3    3\n",
      "5    1\n",
      "4    1\n",
      "2    1\n",
      "1    1\n",
      "Name: Pointers out of 10, dtype: int64\n",
      "<class 'pandas.core.series.Series'>\n",
      "9    3\n",
      "3    3\n",
      "Name: Pointers out of 10, dtype: int64\n"
     ]
    }
   ],
   "source": [
    "print(s2)\n",
    "print(s2.unique(), type(s2.unique()))\n",
    "df = s2.value_counts()\n",
    "print(df)\n",
    "print(type(df))\n",
    "print(df.iloc[:2])\n"
   ]
  },
  {
   "cell_type": "markdown",
   "metadata": {},
   "source": [
    "InBuilt support for DataVisualisation in pandas"
   ]
  }
 ],
 "metadata": {
  "kernelspec": {
   "display_name": "Python 3",
   "language": "python",
   "name": "python3"
  },
  "language_info": {
   "codemirror_mode": {
    "name": "ipython",
    "version": 3
   },
   "file_extension": ".py",
   "mimetype": "text/x-python",
   "name": "python",
   "nbconvert_exporter": "python",
   "pygments_lexer": "ipython3",
   "version": "3.7.1"
  }
 },
 "nbformat": 4,
 "nbformat_minor": 2
}
